{
 "cells": [
  {
   "cell_type": "code",
   "execution_count": 1,
   "id": "19ecd349",
   "metadata": {},
   "outputs": [],
   "source": [
    "def map_step(A, B):\n",
    "    intermediate = []\n",
    "    n = len(A) # Assuming A and B are square matrices of the same size.\n",
    "    for i in range(n):\n",
    "        for j in range(n):\n",
    "            # Emit row of A\n",
    "            for k in range(n):\n",
    "                intermediate.append(((\"C\", i, k), (\"A\", A[i][j])))\n",
    "            # Emit column of B\n",
    "            for k in range(n):\n",
    "                intermediate.append(((\"C\", k, j), (\"B\", B[i][j])))\n",
    "    return intermediate"
   ]
  },
  {
   "cell_type": "code",
   "execution_count": 2,
   "id": "66626030",
   "metadata": {},
   "outputs": [],
   "source": [
    "def reduce_step(intermediate):\n",
    "    \"\"\"Simplified Reduce step that computes the elements of matrix C.\"\"\"\n",
    "    C = {}\n",
    "    # Aggregate values by key\n",
    "    for key, value in intermediate:\n",
    "        if key in C:\n",
    "            C[key].append(value)\n",
    "        else:\n",
    "            C[key] = [value]\n",
    "    # Compute each element of C\n",
    "    result_matrix = [[0 for _ in range(len(A))] for _ in range(len(A))]\n",
    "    for (matrix, i, j), values in C.items():\n",
    "        a_values = [v for k, v in values if k == \"A\"]\n",
    "        b_values = [v for k, v in values if k == \"B\"]\n",
    "        result_matrix[i][j] = sum(a*b for a, b in zip(a_values, b_values))\n",
    "    return result_matrix"
   ]
  },
  {
   "cell_type": "code",
   "execution_count": 3,
   "id": "95596d2c",
   "metadata": {},
   "outputs": [
    {
     "name": "stdout",
     "output_type": "stream",
     "text": [
      "Result Matrix C:\n",
      "[4, 4]\n",
      "[10, 8]\n"
     ]
    }
   ],
   "source": [
    "# Example input matrices\n",
    "A = [[1, 2], [3, 4]]\n",
    "B = [[2, 0], [1, 2]]\n",
    "\n",
    "# Run the simplified MapReduce\n",
    "intermediate = map_step(A, B)\n",
    "C = reduce_step(intermediate)\n",
    "\n",
    "# Print the result\n",
    "print(\"Result Matrix C:\")\n",
    "for row in C:\n",
    "    print(row)"
   ]
  },
  {
   "cell_type": "code",
   "execution_count": null,
   "id": "18d7ae7a",
   "metadata": {},
   "outputs": [],
   "source": []
  }
 ],
 "metadata": {
  "kernelspec": {
   "display_name": "Python 3 (ipykernel)",
   "language": "python",
   "name": "python3"
  },
  "language_info": {
   "codemirror_mode": {
    "name": "ipython",
    "version": 3
   },
   "file_extension": ".py",
   "mimetype": "text/x-python",
   "name": "python",
   "nbconvert_exporter": "python",
   "pygments_lexer": "ipython3",
   "version": "3.9.13"
  }
 },
 "nbformat": 4,
 "nbformat_minor": 5
}
