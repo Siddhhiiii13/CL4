{
 "cells": [
  {
   "cell_type": "code",
   "execution_count": 1,
   "id": "45eff9bd",
   "metadata": {},
   "outputs": [],
   "source": [
    "import pandas as pd\n",
    "def map_reduce_with_pandas(input_file):\n",
    "    # Load the dataset\n",
    "    df = pd.read_csv(input_file)\n",
    "    # Map: Filter deceased males and transform data for average age calculation\n",
    "    deceased_males = df[(df['Survived'] == 0) & (df['Sex'] == 'male')]\n",
    "    \n",
    "    # Reduce: Calculate average age of deceased males\n",
    "    average_age_deceased_males = deceased_males['Age'].mean()\n",
    "\n",
    "    # Map: Filter deceased females and transform data for count by class\n",
    "    deceased_females_by_class = df[(df['Survived'] == 0) & (df['Sex'] == 'female')]\n",
    "\n",
    "    # Reduce: Count deceased females by class\n",
    "    count_deceased_females_by_class = deceased_females_by_class['Pclass'].value_counts()\n",
    "    return average_age_deceased_males, count_deceased_females_by_class\n"
   ]
  },
  {
   "cell_type": "code",
   "execution_count": 2,
   "id": "d9df324f",
   "metadata": {},
   "outputs": [
    {
     "name": "stdout",
     "output_type": "stream",
     "text": [
      "Average age of males who died: 31.62\n",
      "Number of deceased females in each class:\n",
      "3    72\n",
      "2     6\n",
      "1     3\n",
      "Name: Pclass, dtype: int64\n"
     ]
    }
   ],
   "source": [
    "input_file = 'titanic_data.csv'\n",
    "average_age, female_class_count = map_reduce_with_pandas(input_file)\n",
    "print(f\"Average age of males who died: {average_age:.2f}\")\n",
    "print(\"Number of deceased females in each class:\")\n",
    "print(female_class_count)"
   ]
  },
  {
   "cell_type": "code",
   "execution_count": null,
   "id": "a10e6546",
   "metadata": {},
   "outputs": [],
   "source": []
  }
 ],
 "metadata": {
  "kernelspec": {
   "display_name": "Python 3 (ipykernel)",
   "language": "python",
   "name": "python3"
  },
  "language_info": {
   "codemirror_mode": {
    "name": "ipython",
    "version": 3
   },
   "file_extension": ".py",
   "mimetype": "text/x-python",
   "name": "python",
   "nbconvert_exporter": "python",
   "pygments_lexer": "ipython3",
   "version": "3.9.13"
  }
 },
 "nbformat": 4,
 "nbformat_minor": 5
}
