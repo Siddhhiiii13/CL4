{
 "cells": [
  {
   "cell_type": "code",
   "execution_count": 1,
   "id": "e6d8281a",
   "metadata": {},
   "outputs": [],
   "source": [
    "from collections import defaultdict"
   ]
  },
  {
   "cell_type": "code",
   "execution_count": 2,
   "id": "0c9ffb7b",
   "metadata": {},
   "outputs": [],
   "source": [
    "def map_function(student_scores):\n",
    "    \"\"\"Emits tuples of student_id and score.\"\"\"\n",
    "    for student_id, score in student_scores:\n",
    "        yield student_id, score\n",
    "        \n",
    "def reduce_function(mapped_data):\n",
    "    \"\"\"Assigns grades based on scores.\"\"\"\n",
    "    grades = {}\n",
    "    for student_id, score in mapped_data:\n",
    "        if score > 80:\n",
    "            grade = 'A'\n",
    "        elif score > 60:\n",
    "            grade = 'B'\n",
    "        elif score > 40:\n",
    "            grade = 'C'\n",
    "        else:\n",
    "            grade = 'D'\n",
    "        grades[student_id] = grade\n",
    "    return grades"
   ]
  },
  {
   "cell_type": "code",
   "execution_count": 3,
   "id": "2504d47d",
   "metadata": {},
   "outputs": [],
   "source": [
    "def map_reduce(student_scores):\n",
    "    \"\"\"Simulates the MapReduce process for assigning grades to students based on scores.\"\"\"\n",
    "    # Map phase\n",
    "    mapped_data = list(map_function(student_scores))\n",
    "    # Reduce phase\n",
    "    grades = reduce_function(mapped_data)\n",
    "    return grades  "
   ]
  },
  {
   "cell_type": "code",
   "execution_count": 4,
   "id": "5c37a9ef",
   "metadata": {},
   "outputs": [
    {
     "name": "stdout",
     "output_type": "stream",
     "text": [
      "Student 1 has been assigned grade A.\n",
      "Student 2 has been assigned grade B.\n",
      "Student 3 has been assigned grade C.\n",
      "Student 4 has been assigned grade D.\n",
      "Student 5 has been assigned grade A.\n"
     ]
    }
   ],
   "source": [
    "# Example student scores (student_id, score)\n",
    "student_scores = [\n",
    "(1, 85),\n",
    "(2, 75),\n",
    "(3, 55),\n",
    "(4, 35),\n",
    "(5, 90)\n",
    "]\n",
    "\n",
    "# Find grades for students\n",
    "grades = map_reduce(student_scores)\n",
    "\n",
    "# Print grades for each student\n",
    "for student_id, grade in grades.items():\n",
    "    print(f\"Student {student_id} has been assigned grade {grade}.\")"
   ]
  },
  {
   "cell_type": "code",
   "execution_count": null,
   "id": "ccf84e64",
   "metadata": {},
   "outputs": [],
   "source": []
  }
 ],
 "metadata": {
  "kernelspec": {
   "display_name": "Python 3 (ipykernel)",
   "language": "python",
   "name": "python3"
  },
  "language_info": {
   "codemirror_mode": {
    "name": "ipython",
    "version": 3
   },
   "file_extension": ".py",
   "mimetype": "text/x-python",
   "name": "python",
   "nbconvert_exporter": "python",
   "pygments_lexer": "ipython3",
   "version": "3.9.13"
  }
 },
 "nbformat": 4,
 "nbformat_minor": 5
}
